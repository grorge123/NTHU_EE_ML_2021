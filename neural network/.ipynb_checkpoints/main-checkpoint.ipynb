{
 "cells": [
  {
   "cell_type": "code",
   "execution_count": 1,
   "metadata": {},
   "outputs": [],
   "source": [
    "import numpy as np\n",
    "import math\n",
    "from sklearn.decomposition import PCA\n",
    "from PIL import Image\n",
    "import os\n",
    "import random\n",
    "\n",
    "seed = 7122\n",
    "random.seed = seed\n",
    "np.random.seed = seed"
   ]
  },
  {
   "cell_type": "code",
   "execution_count": 39,
   "metadata": {},
   "outputs": [],
   "source": [
    "tr_path = \"Data/Data_train/\"\n",
    "tt_path = \"Data/Data_test/\"\n",
    "tr_data = [[], [], []]\n",
    "tt_data = [[], [], []]\n",
    "\n",
    "for name in os.listdir(tr_path + \"Carambula\"):\n",
    "    image = Image.open(tr_path + \"Carambula/\" + name)\n",
    "    tr_data[0].append(np.array(image).reshape(32*32*2))\n",
    "for name in os.listdir(tr_path + \"Lychee\"):\n",
    "    image = Image.open(tr_path + \"Lychee/\" + name)\n",
    "    tr_data[1].append(np.array(image).reshape(32*32*2))\n",
    "for name in os.listdir(tr_path + \"Pear\"):\n",
    "    image = Image.open(tr_path + \"Pear/\" + name)\n",
    "    tr_data[2].append(np.array(image).reshape(32*32*2))\n",
    "    \n",
    "for name in os.listdir(tt_path + \"Carambula\"):\n",
    "    image = Image.open(tt_path + \"Carambula/\" + name)\n",
    "    tt_data[0].append(np.array(image).reshape(32*32*2))\n",
    "for name in os.listdir(tt_path + \"Lychee\"):\n",
    "    image = Image.open(tt_path + \"Lychee/\" + name)\n",
    "    tt_data[1].append(np.array(image).reshape(32*32*2))\n",
    "for name in os.listdir(tt_path + \"Pear\"):\n",
    "    image = Image.open(tt_path + \"Pear/\" + name)\n",
    "    tt_data[2].append(np.array(image).reshape(32*32*2))\n",
    "for i in range(3):\n",
    "    tr_data[i] = np.array(tr_data[i])\n",
    "    tt_data[i] = np.array(tt_data[i])\n",
    "\n",
    "for i in range(3):\n",
    "    pca = PCA(n_components=2)\n",
    "    pca.fit(tr_data[i])\n",
    "    tr_data[i] = pca.transform(tr_data[i])\n",
    "\n",
    "tr_in = []\n",
    "tt_in = []\n",
    "\n",
    "for i in range(3):\n",
    "    for q in range(len(tr_data[i])):\n",
    "        label = np.zeros((3))\n",
    "        label[i] = 1\n",
    "        tr_in.append([label, tr_data[i][q]])\n",
    "for i in range(3):\n",
    "    for q in range(len(tt_data[i])):\n",
    "        label = np.zeros((3))\n",
    "        label[i] = 1\n",
    "        tt_in.append([label, tt_data[i][q]])\n",
    "        \n",
    "random.shuffle(tr_in)"
   ]
  },
  {
   "cell_type": "code",
   "execution_count": 43,
   "metadata": {},
   "outputs": [
    {
     "data": {
      "text/plain": [
       "[array([1., 0., 0.]), array([254, 255, 254, ..., 255, 255,   1])]"
      ]
     },
     "execution_count": 43,
     "metadata": {},
     "output_type": "execute_result"
    }
   ],
   "source": [
    "tt_in[0]"
   ]
  },
  {
   "cell_type": "code",
   "execution_count": 33,
   "metadata": {},
   "outputs": [],
   "source": [
    "def softmax(x):\n",
    "    exp = np.exp(x-x.max())\n",
    "    return exp/exp.sum()\n",
    "#     return np.exp(x) / np.sum(np.exp(x), axis=0)\n",
    "def liner(x):\n",
    "    return x;\n",
    "def init(k, m):\n",
    "    return np.random.uniform(0, 1e-3, (k, m))\n",
    "def cross(pred, y):\n",
    "    loss = 0\n",
    "    for i in range(len(pred)):\n",
    "        loss -= y[i] * math.log2(pred[i])\n",
    "    return loss"
   ]
  },
  {
   "cell_type": "code",
   "execution_count": 34,
   "metadata": {},
   "outputs": [],
   "source": [
    "class two_layer:\n",
    "    def __init__(self, inpdim, lr):\n",
    "        self.lr = lr\n",
    "        self.inpdim = inpdim\n",
    "        self.hid2 = 32\n",
    "        self.dim = [inpdim, self.hid2, 3]\n",
    "        self.act = [liner, softmax]\n",
    "        self.w = np.array([init(inpdim, self.hid2), init(self.hid2, 3)])\n",
    "    def forward(self, data):\n",
    "        z1 = data.dot(self.w[0])\n",
    "        self.a1 = z1\n",
    "        z2 = z1.dot(self.w[1])\n",
    "        self.a2 = z2\n",
    "        out = softmax(z2)\n",
    "        return out\n",
    "    def backward(self, data, pred, y):\n",
    "        dw = np.array([np.zeros((self.inpdim, self.hid2)), np.zeros((self.hid2, 3))])\n",
    "        for i in range(3):\n",
    "            dl = pred[i] - y[i]\n",
    "            for q in range(self.hid2):\n",
    "                dw[1][q][i] += dl * self.a1[q]\n",
    "            for q in range(self.inpdim):\n",
    "                for k in range(self.hid2):\n",
    "                    dw[0][q][k] += dl * self.w[1][k][i] * data[q]\n",
    "        return dw\n",
    "    def train(self, in_data, mode=\"train\"):\n",
    "        if mode == \"train\":\n",
    "            loss = 0\n",
    "            for i in in_data:\n",
    "                dw = [np.zeros((self.inpdim, self.hid2)), np.zeros((self.hid2, 3))]\n",
    "                pred = self.forward(i[1])\n",
    "                loss += cross(pred, i[0])\n",
    "                dw += self.backward(i[1], pred, i[0])\n",
    "            self.w += self.lr * dw\n",
    "            return loss\n",
    "        else:\n",
    "            re = []\n",
    "            for i in in_data:\n",
    "                dw = [np.zeros((self.inpdim, self.hid2)), np.zeros((self.hid2, 3))]\n",
    "                re.append(self.forward(i[1]))\n",
    "            return re;"
   ]
  },
  {
   "cell_type": "code",
   "execution_count": 35,
   "metadata": {},
   "outputs": [
    {
     "ename": "IndexError",
     "evalue": "tuple index out of range",
     "output_type": "error",
     "traceback": [
      "\u001b[1;31m---------------------------------------------------------------------------\u001b[0m",
      "\u001b[1;31mIndexError\u001b[0m                                Traceback (most recent call last)",
      "\u001b[1;32m<ipython-input-35-58e2bb10eb7c>\u001b[0m in \u001b[0;36m<module>\u001b[1;34m\u001b[0m\n\u001b[0;32m      3\u001b[0m \u001b[0mlr\u001b[0m \u001b[1;33m=\u001b[0m \u001b[1;36m1e-3\u001b[0m\u001b[1;33m\u001b[0m\u001b[1;33m\u001b[0m\u001b[0m\n\u001b[0;32m      4\u001b[0m \u001b[1;33m\u001b[0m\u001b[0m\n\u001b[1;32m----> 5\u001b[1;33m \u001b[0mmodel\u001b[0m \u001b[1;33m=\u001b[0m \u001b[0mtwo_layer\u001b[0m\u001b[1;33m(\u001b[0m\u001b[0mtr_in\u001b[0m\u001b[1;33m[\u001b[0m\u001b[1;36m0\u001b[0m\u001b[1;33m]\u001b[0m\u001b[1;33m[\u001b[0m\u001b[1;36m1\u001b[0m\u001b[1;33m]\u001b[0m\u001b[1;33m.\u001b[0m\u001b[0mshape\u001b[0m\u001b[1;33m[\u001b[0m\u001b[1;36m0\u001b[0m\u001b[1;33m]\u001b[0m\u001b[1;33m,\u001b[0m \u001b[0mlr\u001b[0m\u001b[1;33m)\u001b[0m\u001b[1;33m\u001b[0m\u001b[1;33m\u001b[0m\u001b[0m\n\u001b[0m\u001b[0;32m      6\u001b[0m \u001b[1;33m\u001b[0m\u001b[0m\n\u001b[0;32m      7\u001b[0m \u001b[1;32mfor\u001b[0m \u001b[0m_\u001b[0m \u001b[1;32min\u001b[0m \u001b[0mrange\u001b[0m\u001b[1;33m(\u001b[0m\u001b[0mepoch\u001b[0m\u001b[1;33m)\u001b[0m\u001b[1;33m:\u001b[0m\u001b[1;33m\u001b[0m\u001b[1;33m\u001b[0m\u001b[0m\n",
      "\u001b[1;31mIndexError\u001b[0m: tuple index out of range"
     ]
    }
   ],
   "source": [
    "epoch = 300\n",
    "batch_size = 50\n",
    "lr = 1e-3\n",
    "\n",
    "model = two_layer(tr_in[0][1].shape[0], lr)\n",
    "\n",
    "for _ in range(epoch):\n",
    "    loss = 0\n",
    "    for bti in range(math.ceil(len(tr_in)/batch_size)):\n",
    "        now_in = tr_in[bti * batch_size : min((bti + 1) * batch_size, len(tr_in))]\n",
    "        print(now_in[0][1])\n",
    "        loss += model.train(now_in)\n",
    "    print(\"epoch:\", _, \"loss:\", loss)"
   ]
  },
  {
   "cell_type": "code",
   "execution_count": 17,
   "metadata": {},
   "outputs": [
    {
     "data": {
      "text/plain": [
       "array([[0.4, 0.6, 0.8],\n",
       "       [0.6, 0.8, 1. ]])"
      ]
     },
     "execution_count": 17,
     "metadata": {},
     "output_type": "execute_result"
    }
   ],
   "source": [
    "a =np.array([[2,3,4],[3,4,5]])\n",
    "a*0.2"
   ]
  }
 ],
 "metadata": {
  "kernelspec": {
   "display_name": "Python 3",
   "language": "python",
   "name": "python3"
  },
  "language_info": {
   "codemirror_mode": {
    "name": "ipython",
    "version": 3
   },
   "file_extension": ".py",
   "mimetype": "text/x-python",
   "name": "python",
   "nbconvert_exporter": "python",
   "pygments_lexer": "ipython3",
   "version": "3.8.7"
  }
 },
 "nbformat": 4,
 "nbformat_minor": 4
}
