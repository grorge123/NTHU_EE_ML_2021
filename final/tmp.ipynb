{
 "cells": [
  {
   "cell_type": "code",
   "execution_count": 1,
   "metadata": {},
   "outputs": [],
   "source": [
    "tt_path = \"deal_test.csv\"\n",
    "tr_path = \"deal_train.csv\"\n",
    "sea_path = \"season.csv\"\n",
    "import pandas as pd # 引用套件並縮寫為 pd\n",
    "import csv\n",
    "import math\n",
    "import random\n",
    "import numpy as np\n",
    "myseed = 7122\n",
    "random.seed(myseed)\n",
    "np.random.seed(myseed)"
   ]
  },
  {
   "cell_type": "code",
   "execution_count": 2,
   "metadata": {},
   "outputs": [],
   "source": [
    "df = pd.read_csv(tt_path, encoding=\"Big5\")\n",
    "df2 = pd.read_csv(tr_path, encoding=\"Big5\")\n",
    "data = {};\n",
    "for i in range(len(df[\"PerStatus\"])):\n",
    "    if(df.iloc[i][\"PerNo\"] not in data):\n",
    "        data[df.iloc[i][\"PerNo\"]] = {df.iloc[i][\"yyyy\"]:df.iloc[i][3:]}\n",
    "    else:\n",
    "        data[df.iloc[i][\"PerNo\"]][df.iloc[i][\"yyyy\"]] = df.iloc[i][3:]\n",
    "\n",
    "for i in range(len(df2[\"PerStatus\"])):\n",
    "    if(df2.iloc[i][\"PerNo\"] not in data):\n",
    "        data[df2.iloc[i][\"PerNo\"]] = {df2.iloc[i][\"yyyy\"]:df2.iloc[i][3:]}\n",
    "    else:\n",
    "        data[df2.iloc[i][\"PerNo\"]][df2.iloc[i][\"yyyy\"]] = df2.iloc[i][3:]"
   ]
  },
  {
   "cell_type": "code",
   "execution_count": 3,
   "metadata": {},
   "outputs": [],
   "source": [
    "sea = pd.read_csv(sea_path, encoding=\"utf-8\")\n",
    "for i in range(len(sea[\"PerNo\"])):\n",
    "    if(sea.iloc[i][\"PerNo\"] not in data):\n",
    "        data[sea.iloc[i][\"PerNo\"]] = {sea.iloc[i][\"periodQ\"]:sea.iloc[i][3:]}\n",
    "    else:\n",
    "        data[sea.iloc[i][\"PerNo\"]][sea.iloc[i][\"periodQ\"]] = sea.iloc[i][3:]"
   ]
  },
  {
   "cell_type": "code",
   "execution_count": 4,
   "metadata": {},
   "outputs": [],
   "source": [
    "dtr = []\n",
    "dtt = []\n",
    "for idx, value in data.items():\n",
    "    for yy in range(2014, 2016):\n",
    "        if yy in value and yy+1 in value:\n",
    "            now = [idx]\n",
    "            now.extend(value[yy+1])\n",
    "            now.extend(value[yy])\n",
    "            now.extend(value[str(yy+1)+\"Q1\"])\n",
    "            now.extend(value[str(yy+1)+\"Q2\"])\n",
    "            now.extend(value[str(yy+1)+\"Q3\"])\n",
    "            now.extend(value[str(yy+1)+\"Q4\"])\n",
    "            now.extend(value[str(yy)+\"Q1\"])\n",
    "            now.extend(value[str(yy)+\"Q2\"])\n",
    "            now.extend(value[str(yy)+\"Q3\"])\n",
    "            now.extend(value[str(yy)+\"Q4\"])\n",
    "            dtr.append(now)\n",
    "for idx, value in data.items():\n",
    "    if 2018 in value:\n",
    "        now = [idx]\n",
    "        now.extend(value[2018])\n",
    "        now.extend((value[2017] if(2017 in value) else [-1 for _ in range(43)]))\n",
    "        now.extend(value[str(2018)+\"Q1\"] if(str(2018)+\"Q1\" in value) else [-1 for _ in range(5)])\n",
    "        now.extend(value[str(2018)+\"Q2\"] if(str(2018)+\"Q1\" in value) else [-1 for _ in range(5)])\n",
    "        now.extend(value[str(2018)+\"Q3\"] if(str(2018)+\"Q1\" in value) else [-1 for _ in range(5)])\n",
    "        now.extend(value[str(2018)+\"Q4\"] if(str(2018)+\"Q1\" in value) else [-1 for _ in range(5)])\n",
    "        now.extend(value[str(2017)+\"Q1\"] if(str(2017)+\"Q1\" in value) else [-1 for _ in range(5)])\n",
    "        now.extend(value[str(2017)+\"Q2\"] if(str(2017)+\"Q1\" in value) else [-1 for _ in range(5)])\n",
    "        now.extend(value[str(2017)+\"Q3\"] if(str(2017)+\"Q1\" in value) else [-1 for _ in range(5)])\n",
    "        now.extend(value[str(2017)+\"Q4\"] if(str(2017)+\"Q1\" in value) else [-1 for _ in range(5)])\n",
    "        dtt.append(now)\n"
   ]
  },
  {
   "cell_type": "code",
   "execution_count": 5,
   "metadata": {},
   "outputs": [],
   "source": [
    "# name = [\"PerNo\",\"PerStatus\",\"sex\",\"工作分類\",\"職等\",\"廠區代碼\",\"管理層級\",\"工作資歷1\",\"工作資歷2\",\"工作資歷3\",\"工作資歷4\",\"工作資歷5\",\"專案時數\",\"專案總數\",\"當前專案角色\",\"特殊專案佔比\",\"工作地點\",\"訓練時數A\",\"訓練時數B\",\"訓練時數C\",\"生產總額\",\"榮譽數\",\"是否升遷\",\"升遷速度\",\"近三月請假數A\",\"近一年請假數A\",\"近三月請假數B\",\"近一年請假數B\",\"出差數A\",\"出差數B\",\"出差集中度\",\"年度績效等級A\",\"年度績效等級B\",\"年度績效等級C\",\"年齡層級\",\"婚姻狀況\",\"年資層級A\",\"年資層級B\",\"年資層級C\",\"任職前工作平均年數\",\"畢業科系類別\",\"眷屬量\",\"通勤成本\",\"歸屬部門\",\n",
    "#         \"PerStatus\",\"sex\",\"工作分類\",\"職等\",\"廠區代碼\",\"管理層級\",\"工作資歷1\",\"工作資歷2\",\"工作資歷3\",\"工作資歷4\",\"工作資歷5\",\"專案時數\",\"專案總數\",\"當前專案角色\",\"特殊專案佔比\",\"工作地點\",\"訓練時數A\",\"訓練時數B\",\"訓練時數C\",\"生產總額\",\"榮譽數\",\"是否升遷\",\"升遷速度\",\"近三月請假數A\",\"近一年請假數A\",\"近三月請假數B\",\"近一年請假數B\",\"出差數A\",\"出差數B\",\"出差集中度\",\"年度績效等級A\",\"年度績效等級B\",\"年度績效等級C\",\"年齡層級\",\"婚姻狀況\",\"年資層級A\",\"年資層級B\",\"年資層級C\",\"任職前工作平均年數\",\"畢業科系類別\",\"眷屬量\",\"通勤成本\",\"歸屬部門\",\n",
    "#         \"PerStatus\",\"sex\",\"工作分類\",\"職等\",\"廠區代碼\",\"管理層級\",\"工作資歷1\",\"工作資歷2\",\"工作資歷3\",\"工作資歷4\",\"工作資歷5\",\"專案時數\",\"專案總數\",\"當前專案角色\",\"特殊專案佔比\",\"工作地點\",\"訓練時數A\",\"訓練時數B\",\"訓練時數C\",\"生產總額\",\"榮譽數\",\"是否升遷\",\"升遷速度\",\"近三月請假數A\",\"近一年請假數A\",\"近三月請假數B\",\"近一年請假數B\",\"出差數A\",\"出差數B\",\"出差集中度\",\"年度績效等級A\",\"年度績效等級B\",\"年度績效等級C\",\"年齡層級\",\"婚姻狀況\",\"年資層級A\",\"年資層級B\",\"年資層級C\",\"任職前工作平均年數\",\"畢業科系類別\",\"眷屬量\",\"通勤成本\",\"歸屬部門\",\n",
    "#         \"PerStatus\",\"sex\",\"工作分類\",\"職等\",\"廠區代碼\",\"管理層級\",\"工作資歷1\",\"工作資歷2\",\"工作資歷3\",\"工作資歷4\",\"工作資歷5\",\"專案時數\",\"專案總數\",\"當前專案角色\",\"特殊專案佔比\",\"工作地點\",\"訓練時數A\",\"訓練時數B\",\"訓練時數C\",\"生產總額\",\"榮譽數\",\"是否升遷\",\"升遷速度\",\"近三月請假數A\",\"近一年請假數A\",\"近三月請假數B\",\"近一年請假數B\",\"出差數A\",\"出差數B\",\"出差集中度\",\"年度績效等級A\",\"年度績效等級B\",\"年度績效等級C\",\"年齡層級\",\"婚姻狀況\",\"年資層級A\",\"年資層級B\",\"年資層級C\",\"任職前工作平均年數\",\"畢業科系類別\",\"眷屬量\",\"通勤成本\",\"歸屬部門\"\n",
    "#        ]\n",
    "name = [\"PerNo\",\"PerStatus\",\"sex\",\"工作分類\",\"職等\",\"廠區代碼\",\"管理層級\",\"工作資歷1\",\"工作資歷2\",\"工作資歷3\",\"工作資歷4\",\"工作資歷5\",\"專案時數\",\"專案總數\",\"當前專案角色\",\"特殊專案佔比\",\"工作地點\",\"訓練時數A\",\"訓練時數B\",\"訓練時數C\",\"生產總額\",\"榮譽數\",\"是否升遷\",\"升遷速度\",\"近三月請假數A\",\"近一年請假數A\",\"近三月請假數B\",\"近一年請假數B\",\"出差數A\",\"出差數B\",\"出差集中度\",\"年度績效等級A\",\"年度績效等級B\",\"年度績效等級C\",\"年齡層級\",\"婚姻狀況\",\"年資層級A\",\"年資層級B\",\"年資層級C\",\"任職前工作平均年數\",\"畢業科系類別\",\"眷屬量\",\"通勤成本\",\"歸屬部門\",\n",
    "        \"PerStatus\",\"sex\",\"工作分類\",\"職等\",\"廠區代碼\",\"管理層級\",\"工作資歷1\",\"工作資歷2\",\"工作資歷3\",\"工作資歷4\",\"工作資歷5\",\"專案時數\",\"專案總數\",\"當前專案角色\",\"特殊專案佔比\",\"工作地點\",\"訓練時數A\",\"訓練時數B\",\"訓練時數C\",\"生產總額\",\"榮譽數\",\"是否升遷\",\"升遷速度\",\"近三月請假數A\",\"近一年請假數A\",\"近三月請假數B\",\"近一年請假數B\",\"出差數A\",\"出差數B\",\"出差集中度\",\"年度績效等級A\",\"年度績效等級B\",\"年度績效等級C\",\"年齡層級\",\"婚姻狀況\",\"年資層級A\",\"年資層級B\",\"年資層級C\",\"任職前工作平均年數\",\"畢業科系類別\",\"眷屬量\",\"通勤成本\",\"歸屬部門\",\n",
    "       \"加班數\",\"出差數A\",\"出差數B\",\"請假數A\",\"請假數B\",\"加班數\",\"出差數A\",\"出差數B\",\"請假數A\",\"請假數B\",\"加班數\",\"出差數A\",\"出差數B\",\"請假數A\",\"請假數B\",\"加班數\",\"出差數A\",\"出差數B\",\"請假數A\",\"請假數B\",\n",
    "        \"加班數\",\"出差數A\",\"出差數B\",\"請假數A\",\"請假數B\",\"加班數\",\"出差數A\",\"出差數B\",\"請假數A\",\"請假數B\",\"加班數\",\"出差數A\",\"出差數B\",\"請假數A\",\"請假數B\",\"加班數\",\"出差數A\",\"出差數B\",\"請假數A\",\"請假數B\",\n",
    "       ]"
   ]
  },
  {
   "cell_type": "code",
   "execution_count": 6,
   "metadata": {},
   "outputs": [
    {
     "output_type": "stream",
     "name": "stdout",
     "text": [
      "127\n127\n127\n"
     ]
    }
   ],
   "source": [
    "print(len(name))\n",
    "print(len(dtr[0]))\n",
    "print(len(dtt[15]))"
   ]
  },
  {
   "cell_type": "code",
   "execution_count": 7,
   "metadata": {},
   "outputs": [],
   "source": [
    "with open(\"deal2_train.csv\", 'w', newline='', encoding=\"Big5\") as Csv:\n",
    "    wcsv = csv.writer(Csv)\n",
    "    wcsv.writerow(name)\n",
    "    for i in dtr:\n",
    "        wcsv.writerow(i)\n",
    "with open(\"deal2_test.csv\", 'w', newline='', encoding=\"Big5\") as Csv:\n",
    "    wcsv = csv.writer(Csv)\n",
    "    wcsv.writerow(name)\n",
    "    for i in dtt:\n",
    "        wcsv.writerow(i)"
   ]
  },
  {
   "cell_type": "code",
   "execution_count": 8,
   "metadata": {},
   "outputs": [],
   "source": [
    "random.shuffle(dtr)"
   ]
  },
  {
   "cell_type": "code",
   "execution_count": 9,
   "metadata": {},
   "outputs": [
    {
     "output_type": "stream",
     "name": "stdout",
     "text": [
      "608\n"
     ]
    }
   ],
   "source": [
    "\n",
    "k = 0\n",
    "new_dtr = []\n",
    "for i in dtr:\n",
    "    if i[1] == 1 or k < math.ceil(304 * 1):\n",
    "        new_dtr.append(i)\n",
    "        if i[1] == 0:\n",
    "            k += 1\n",
    "print(len(new_dtr))\n",
    "\n",
    "with open(\"deal3_train.csv\", 'w', newline='', encoding=\"Big5\") as Csv:\n",
    "    wcsv = csv.writer(Csv)\n",
    "    wcsv.writerow(name)\n",
    "    for i in new_dtr:\n",
    "        wcsv.writerow(i)"
   ]
  },
  {
   "cell_type": "code",
   "execution_count": 10,
   "metadata": {},
   "outputs": [],
   "source": [
    "with open(\"deal4_train.csv\", 'w', newline='', encoding=\"utf-8\") as Csv:\n",
    "    wcsv = csv.writer(Csv)\n",
    "    wcsv.writerow(name)\n",
    "    for i in new_dtr:\n",
    "        wcsv.writerow(i)"
   ]
  }
 ],
 "metadata": {
  "kernelspec": {
   "name": "python3",
   "display_name": "Python 3.8.7 64-bit"
  },
  "language_info": {
   "codemirror_mode": {
    "name": "ipython",
    "version": 3
   },
   "file_extension": ".py",
   "mimetype": "text/x-python",
   "name": "python",
   "nbconvert_exporter": "python",
   "pygments_lexer": "ipython3",
   "version": "3.8.7"
  },
  "interpreter": {
   "hash": "3c22718499b41bb5f2ff295200a406ab1778c3e0822d0d6ea65ff212b7b80a76"
  }
 },
 "nbformat": 4,
 "nbformat_minor": 4
}