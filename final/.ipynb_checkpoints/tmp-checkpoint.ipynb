{
 "cells": [
  {
   "cell_type": "code",
   "execution_count": 4,
   "metadata": {},
   "outputs": [],
   "source": [
    "tt_path = \"deal_test.csv\"\n",
    "tr_path = \"deal_train.csv\"\n",
    "sea_path = \"season.csv\"\n",
    "import pandas as pd # 引用套件並縮寫為 pd\n",
    "import csv\n",
    "import math\n",
    "import random\n",
    "import numpy as np\n",
    "myseed = 7122\n",
    "random.seed(myseed)\n",
    "np.random.seed(myseed)"
   ]
  },
  {
   "cell_type": "code",
   "execution_count": 2,
   "metadata": {},
   "outputs": [],
   "source": [
    "df = pd.read_csv(tt_path, encoding=\"Big5\")\n",
    "df2 = pd.read_csv(tr_path, encoding=\"Big5\")\n",
    "data = {};\n",
    "for i in range(len(df[\"PerStatus\"])):\n",
    "    if(df.iloc[i][\"PerNo\"] not in data):\n",
    "        data[df.iloc[i][\"PerNo\"]] = {df.iloc[i][\"yyyy\"]:df.iloc[i][3:]}\n",
    "    else:\n",
    "        data[df.iloc[i][\"PerNo\"]][df.iloc[i][\"yyyy\"]] = df.iloc[i][3:]\n",
    "\n",
    "for i in range(len(df2[\"PerStatus\"])):\n",
    "    if(df2.iloc[i][\"PerNo\"] not in data):\n",
    "        data[df2.iloc[i][\"PerNo\"]] = {df2.iloc[i][\"yyyy\"]:df2.iloc[i][3:]}\n",
    "    else:\n",
    "        data[df2.iloc[i][\"PerNo\"]][df2.iloc[i][\"yyyy\"]] = df2.iloc[i][3:]"
   ]
  },
  {
   "cell_type": "code",
   "execution_count": 6,
   "metadata": {},
   "outputs": [
    {
     "ename": "KeyError",
     "evalue": "'periodQ'",
     "output_type": "error",
     "traceback": [
      "\u001b[1;31m---------------------------------------------------------------------------\u001b[0m",
      "\u001b[1;31mKeyError\u001b[0m                                  Traceback (most recent call last)",
      "\u001b[1;32mc:\\users\\tsao han wen\\appdata\\local\\programs\\python\\python38\\lib\\site-packages\\pandas\\core\\indexes\\base.py\u001b[0m in \u001b[0;36mget_loc\u001b[1;34m(self, key, method, tolerance)\u001b[0m\n\u001b[0;32m   3079\u001b[0m             \u001b[1;32mtry\u001b[0m\u001b[1;33m:\u001b[0m\u001b[1;33m\u001b[0m\u001b[1;33m\u001b[0m\u001b[0m\n\u001b[1;32m-> 3080\u001b[1;33m                 \u001b[1;32mreturn\u001b[0m \u001b[0mself\u001b[0m\u001b[1;33m.\u001b[0m\u001b[0m_engine\u001b[0m\u001b[1;33m.\u001b[0m\u001b[0mget_loc\u001b[0m\u001b[1;33m(\u001b[0m\u001b[0mcasted_key\u001b[0m\u001b[1;33m)\u001b[0m\u001b[1;33m\u001b[0m\u001b[1;33m\u001b[0m\u001b[0m\n\u001b[0m\u001b[0;32m   3081\u001b[0m             \u001b[1;32mexcept\u001b[0m \u001b[0mKeyError\u001b[0m \u001b[1;32mas\u001b[0m \u001b[0merr\u001b[0m\u001b[1;33m:\u001b[0m\u001b[1;33m\u001b[0m\u001b[1;33m\u001b[0m\u001b[0m\n",
      "\u001b[1;32mpandas\\_libs\\index.pyx\u001b[0m in \u001b[0;36mpandas._libs.index.IndexEngine.get_loc\u001b[1;34m()\u001b[0m\n",
      "\u001b[1;32mpandas\\_libs\\index.pyx\u001b[0m in \u001b[0;36mpandas._libs.index.IndexEngine.get_loc\u001b[1;34m()\u001b[0m\n",
      "\u001b[1;32mpandas\\_libs\\hashtable_class_helper.pxi\u001b[0m in \u001b[0;36mpandas._libs.hashtable.PyObjectHashTable.get_item\u001b[1;34m()\u001b[0m\n",
      "\u001b[1;32mpandas\\_libs\\hashtable_class_helper.pxi\u001b[0m in \u001b[0;36mpandas._libs.hashtable.PyObjectHashTable.get_item\u001b[1;34m()\u001b[0m\n",
      "\u001b[1;31mKeyError\u001b[0m: 'periodQ'",
      "\nThe above exception was the direct cause of the following exception:\n",
      "\u001b[1;31mKeyError\u001b[0m                                  Traceback (most recent call last)",
      "\u001b[1;32m<ipython-input-6-b78082fe9896>\u001b[0m in \u001b[0;36m<module>\u001b[1;34m\u001b[0m\n\u001b[0;32m      4\u001b[0m         \u001b[0mdata\u001b[0m\u001b[1;33m[\u001b[0m\u001b[0mdf\u001b[0m\u001b[1;33m.\u001b[0m\u001b[0miloc\u001b[0m\u001b[1;33m[\u001b[0m\u001b[0mi\u001b[0m\u001b[1;33m]\u001b[0m\u001b[1;33m[\u001b[0m\u001b[1;34m\"PerNo\"\u001b[0m\u001b[1;33m]\u001b[0m\u001b[1;33m]\u001b[0m \u001b[1;33m=\u001b[0m \u001b[1;33m{\u001b[0m\u001b[0mdf\u001b[0m\u001b[1;33m.\u001b[0m\u001b[0miloc\u001b[0m\u001b[1;33m[\u001b[0m\u001b[0mi\u001b[0m\u001b[1;33m]\u001b[0m\u001b[1;33m[\u001b[0m\u001b[1;34m\"periodQ\"\u001b[0m\u001b[1;33m]\u001b[0m\u001b[1;33m:\u001b[0m\u001b[0mdf\u001b[0m\u001b[1;33m.\u001b[0m\u001b[0miloc\u001b[0m\u001b[1;33m[\u001b[0m\u001b[0mi\u001b[0m\u001b[1;33m]\u001b[0m\u001b[1;33m[\u001b[0m\u001b[1;36m3\u001b[0m\u001b[1;33m:\u001b[0m\u001b[1;33m]\u001b[0m\u001b[1;33m}\u001b[0m\u001b[1;33m\u001b[0m\u001b[1;33m\u001b[0m\u001b[0m\n\u001b[0;32m      5\u001b[0m     \u001b[1;32melse\u001b[0m\u001b[1;33m:\u001b[0m\u001b[1;33m\u001b[0m\u001b[1;33m\u001b[0m\u001b[0m\n\u001b[1;32m----> 6\u001b[1;33m         \u001b[0mdata\u001b[0m\u001b[1;33m[\u001b[0m\u001b[0mdf\u001b[0m\u001b[1;33m.\u001b[0m\u001b[0miloc\u001b[0m\u001b[1;33m[\u001b[0m\u001b[0mi\u001b[0m\u001b[1;33m]\u001b[0m\u001b[1;33m[\u001b[0m\u001b[1;34m\"PerNo\"\u001b[0m\u001b[1;33m]\u001b[0m\u001b[1;33m]\u001b[0m\u001b[1;33m[\u001b[0m\u001b[0mdf\u001b[0m\u001b[1;33m.\u001b[0m\u001b[0miloc\u001b[0m\u001b[1;33m[\u001b[0m\u001b[0mi\u001b[0m\u001b[1;33m]\u001b[0m\u001b[1;33m[\u001b[0m\u001b[1;34m\"periodQ\"\u001b[0m\u001b[1;33m]\u001b[0m\u001b[1;33m]\u001b[0m \u001b[1;33m=\u001b[0m \u001b[0mdf\u001b[0m\u001b[1;33m.\u001b[0m\u001b[0miloc\u001b[0m\u001b[1;33m[\u001b[0m\u001b[0mi\u001b[0m\u001b[1;33m]\u001b[0m\u001b[1;33m[\u001b[0m\u001b[1;36m3\u001b[0m\u001b[1;33m:\u001b[0m\u001b[1;33m]\u001b[0m\u001b[1;33m\u001b[0m\u001b[1;33m\u001b[0m\u001b[0m\n\u001b[0m",
      "\u001b[1;32mc:\\users\\tsao han wen\\appdata\\local\\programs\\python\\python38\\lib\\site-packages\\pandas\\core\\series.py\u001b[0m in \u001b[0;36m__getitem__\u001b[1;34m(self, key)\u001b[0m\n\u001b[0;32m    822\u001b[0m \u001b[1;33m\u001b[0m\u001b[0m\n\u001b[0;32m    823\u001b[0m         \u001b[1;32melif\u001b[0m \u001b[0mkey_is_scalar\u001b[0m\u001b[1;33m:\u001b[0m\u001b[1;33m\u001b[0m\u001b[1;33m\u001b[0m\u001b[0m\n\u001b[1;32m--> 824\u001b[1;33m             \u001b[1;32mreturn\u001b[0m \u001b[0mself\u001b[0m\u001b[1;33m.\u001b[0m\u001b[0m_get_value\u001b[0m\u001b[1;33m(\u001b[0m\u001b[0mkey\u001b[0m\u001b[1;33m)\u001b[0m\u001b[1;33m\u001b[0m\u001b[1;33m\u001b[0m\u001b[0m\n\u001b[0m\u001b[0;32m    825\u001b[0m \u001b[1;33m\u001b[0m\u001b[0m\n\u001b[0;32m    826\u001b[0m         \u001b[1;32mif\u001b[0m \u001b[0mis_hashable\u001b[0m\u001b[1;33m(\u001b[0m\u001b[0mkey\u001b[0m\u001b[1;33m)\u001b[0m\u001b[1;33m:\u001b[0m\u001b[1;33m\u001b[0m\u001b[1;33m\u001b[0m\u001b[0m\n",
      "\u001b[1;32mc:\\users\\tsao han wen\\appdata\\local\\programs\\python\\python38\\lib\\site-packages\\pandas\\core\\series.py\u001b[0m in \u001b[0;36m_get_value\u001b[1;34m(self, label, takeable)\u001b[0m\n\u001b[0;32m    930\u001b[0m \u001b[1;33m\u001b[0m\u001b[0m\n\u001b[0;32m    931\u001b[0m         \u001b[1;31m# Similar to Index.get_value, but we do not fall back to positional\u001b[0m\u001b[1;33m\u001b[0m\u001b[1;33m\u001b[0m\u001b[1;33m\u001b[0m\u001b[0m\n\u001b[1;32m--> 932\u001b[1;33m         \u001b[0mloc\u001b[0m \u001b[1;33m=\u001b[0m \u001b[0mself\u001b[0m\u001b[1;33m.\u001b[0m\u001b[0mindex\u001b[0m\u001b[1;33m.\u001b[0m\u001b[0mget_loc\u001b[0m\u001b[1;33m(\u001b[0m\u001b[0mlabel\u001b[0m\u001b[1;33m)\u001b[0m\u001b[1;33m\u001b[0m\u001b[1;33m\u001b[0m\u001b[0m\n\u001b[0m\u001b[0;32m    933\u001b[0m         \u001b[1;32mreturn\u001b[0m \u001b[0mself\u001b[0m\u001b[1;33m.\u001b[0m\u001b[0mindex\u001b[0m\u001b[1;33m.\u001b[0m\u001b[0m_get_values_for_loc\u001b[0m\u001b[1;33m(\u001b[0m\u001b[0mself\u001b[0m\u001b[1;33m,\u001b[0m \u001b[0mloc\u001b[0m\u001b[1;33m,\u001b[0m \u001b[0mlabel\u001b[0m\u001b[1;33m)\u001b[0m\u001b[1;33m\u001b[0m\u001b[1;33m\u001b[0m\u001b[0m\n\u001b[0;32m    934\u001b[0m \u001b[1;33m\u001b[0m\u001b[0m\n",
      "\u001b[1;32mc:\\users\\tsao han wen\\appdata\\local\\programs\\python\\python38\\lib\\site-packages\\pandas\\core\\indexes\\base.py\u001b[0m in \u001b[0;36mget_loc\u001b[1;34m(self, key, method, tolerance)\u001b[0m\n\u001b[0;32m   3080\u001b[0m                 \u001b[1;32mreturn\u001b[0m \u001b[0mself\u001b[0m\u001b[1;33m.\u001b[0m\u001b[0m_engine\u001b[0m\u001b[1;33m.\u001b[0m\u001b[0mget_loc\u001b[0m\u001b[1;33m(\u001b[0m\u001b[0mcasted_key\u001b[0m\u001b[1;33m)\u001b[0m\u001b[1;33m\u001b[0m\u001b[1;33m\u001b[0m\u001b[0m\n\u001b[0;32m   3081\u001b[0m             \u001b[1;32mexcept\u001b[0m \u001b[0mKeyError\u001b[0m \u001b[1;32mas\u001b[0m \u001b[0merr\u001b[0m\u001b[1;33m:\u001b[0m\u001b[1;33m\u001b[0m\u001b[1;33m\u001b[0m\u001b[0m\n\u001b[1;32m-> 3082\u001b[1;33m                 \u001b[1;32mraise\u001b[0m \u001b[0mKeyError\u001b[0m\u001b[1;33m(\u001b[0m\u001b[0mkey\u001b[0m\u001b[1;33m)\u001b[0m \u001b[1;32mfrom\u001b[0m \u001b[0merr\u001b[0m\u001b[1;33m\u001b[0m\u001b[1;33m\u001b[0m\u001b[0m\n\u001b[0m\u001b[0;32m   3083\u001b[0m \u001b[1;33m\u001b[0m\u001b[0m\n\u001b[0;32m   3084\u001b[0m         \u001b[1;32mif\u001b[0m \u001b[0mtolerance\u001b[0m \u001b[1;32mis\u001b[0m \u001b[1;32mnot\u001b[0m \u001b[1;32mNone\u001b[0m\u001b[1;33m:\u001b[0m\u001b[1;33m\u001b[0m\u001b[1;33m\u001b[0m\u001b[0m\n",
      "\u001b[1;31mKeyError\u001b[0m: 'periodQ'"
     ]
    }
   ],
   "source": [
    "sea = pd.read_csv(sea_path, encoding=\"utf-8\")\n",
    "for i in range(len(df[\"PerNo\"])):\n",
    "    if(df.iloc[i][\"PerNo\"] not in data):\n",
    "        data[df.iloc[i][\"PerNo\"]] = {df.iloc[i][\"periodQ\"]:df.iloc[i][3:]}\n",
    "    else:\n",
    "        data[df.iloc[i][\"PerNo\"]][df.iloc[i][\"periodQ\"]] = df.iloc[i][3:]"
   ]
  },
  {
   "cell_type": "code",
   "execution_count": null,
   "metadata": {},
   "outputs": [],
   "source": []
  },
  {
   "cell_type": "code",
   "execution_count": 3,
   "metadata": {},
   "outputs": [],
   "source": [
    "dtr = []\n",
    "dtt = []\n",
    "for idx, value in data.items():\n",
    "    for yy in range(2014, 2016):\n",
    "        if yy in value and yy+1 in value:\n",
    "            now = [idx]\n",
    "            now.extend(value[yy+1])\n",
    "            now.extend(value[yy])\n",
    "            now.extend(value[str(yy+1)+\"Q1\"])\n",
    "            now.extend(value[str(yy+1)+\"Q2\"])\n",
    "            now.extend(value[str(yy+1)+\"Q3\"])\n",
    "            now.extend(value[str(yy+1)+\"Q4\"])\n",
    "            now.extend(value[str(yy)+\"Q1\"])\n",
    "            now.extend(value[str(yy)+\"Q2\"])\n",
    "            now.extend(value[str(yy)+\"Q3\"])\n",
    "            now.extend(value[str(yy)+\"Q4\"])\n",
    "            dtr.append(now)\n",
    "for idx, value in data.items():\n",
    "    if 2018 in value:\n",
    "        now = [idx]\n",
    "        now.extend(value[2018])\n",
    "        now.extend((value[2017] if(2017 in value) else [-1 for _ in range(43)]))\n",
    "        dtt.append(now)\n"
   ]
  },
  {
   "cell_type": "code",
   "execution_count": 4,
   "metadata": {},
   "outputs": [],
   "source": [
    "# name = [\"PerNo\",\"PerStatus\",\"sex\",\"工作分類\",\"職等\",\"廠區代碼\",\"管理層級\",\"工作資歷1\",\"工作資歷2\",\"工作資歷3\",\"工作資歷4\",\"工作資歷5\",\"專案時數\",\"專案總數\",\"當前專案角色\",\"特殊專案佔比\",\"工作地點\",\"訓練時數A\",\"訓練時數B\",\"訓練時數C\",\"生產總額\",\"榮譽數\",\"是否升遷\",\"升遷速度\",\"近三月請假數A\",\"近一年請假數A\",\"近三月請假數B\",\"近一年請假數B\",\"出差數A\",\"出差數B\",\"出差集中度\",\"年度績效等級A\",\"年度績效等級B\",\"年度績效等級C\",\"年齡層級\",\"婚姻狀況\",\"年資層級A\",\"年資層級B\",\"年資層級C\",\"任職前工作平均年數\",\"畢業科系類別\",\"眷屬量\",\"通勤成本\",\"歸屬部門\",\n",
    "#         \"PerStatus\",\"sex\",\"工作分類\",\"職等\",\"廠區代碼\",\"管理層級\",\"工作資歷1\",\"工作資歷2\",\"工作資歷3\",\"工作資歷4\",\"工作資歷5\",\"專案時數\",\"專案總數\",\"當前專案角色\",\"特殊專案佔比\",\"工作地點\",\"訓練時數A\",\"訓練時數B\",\"訓練時數C\",\"生產總額\",\"榮譽數\",\"是否升遷\",\"升遷速度\",\"近三月請假數A\",\"近一年請假數A\",\"近三月請假數B\",\"近一年請假數B\",\"出差數A\",\"出差數B\",\"出差集中度\",\"年度績效等級A\",\"年度績效等級B\",\"年度績效等級C\",\"年齡層級\",\"婚姻狀況\",\"年資層級A\",\"年資層級B\",\"年資層級C\",\"任職前工作平均年數\",\"畢業科系類別\",\"眷屬量\",\"通勤成本\",\"歸屬部門\",\n",
    "#         \"PerStatus\",\"sex\",\"工作分類\",\"職等\",\"廠區代碼\",\"管理層級\",\"工作資歷1\",\"工作資歷2\",\"工作資歷3\",\"工作資歷4\",\"工作資歷5\",\"專案時數\",\"專案總數\",\"當前專案角色\",\"特殊專案佔比\",\"工作地點\",\"訓練時數A\",\"訓練時數B\",\"訓練時數C\",\"生產總額\",\"榮譽數\",\"是否升遷\",\"升遷速度\",\"近三月請假數A\",\"近一年請假數A\",\"近三月請假數B\",\"近一年請假數B\",\"出差數A\",\"出差數B\",\"出差集中度\",\"年度績效等級A\",\"年度績效等級B\",\"年度績效等級C\",\"年齡層級\",\"婚姻狀況\",\"年資層級A\",\"年資層級B\",\"年資層級C\",\"任職前工作平均年數\",\"畢業科系類別\",\"眷屬量\",\"通勤成本\",\"歸屬部門\",\n",
    "#         \"PerStatus\",\"sex\",\"工作分類\",\"職等\",\"廠區代碼\",\"管理層級\",\"工作資歷1\",\"工作資歷2\",\"工作資歷3\",\"工作資歷4\",\"工作資歷5\",\"專案時數\",\"專案總數\",\"當前專案角色\",\"特殊專案佔比\",\"工作地點\",\"訓練時數A\",\"訓練時數B\",\"訓練時數C\",\"生產總額\",\"榮譽數\",\"是否升遷\",\"升遷速度\",\"近三月請假數A\",\"近一年請假數A\",\"近三月請假數B\",\"近一年請假數B\",\"出差數A\",\"出差數B\",\"出差集中度\",\"年度績效等級A\",\"年度績效等級B\",\"年度績效等級C\",\"年齡層級\",\"婚姻狀況\",\"年資層級A\",\"年資層級B\",\"年資層級C\",\"任職前工作平均年數\",\"畢業科系類別\",\"眷屬量\",\"通勤成本\",\"歸屬部門\"\n",
    "#        ]\n",
    "name = [\"PerNo\",\"PerStatus\",\"sex\",\"工作分類\",\"職等\",\"廠區代碼\",\"管理層級\",\"工作資歷1\",\"工作資歷2\",\"工作資歷3\",\"工作資歷4\",\"工作資歷5\",\"專案時數\",\"專案總數\",\"當前專案角色\",\"特殊專案佔比\",\"工作地點\",\"訓練時數A\",\"訓練時數B\",\"訓練時數C\",\"生產總額\",\"榮譽數\",\"是否升遷\",\"升遷速度\",\"近三月請假數A\",\"近一年請假數A\",\"近三月請假數B\",\"近一年請假數B\",\"出差數A\",\"出差數B\",\"出差集中度\",\"年度績效等級A\",\"年度績效等級B\",\"年度績效等級C\",\"年齡層級\",\"婚姻狀況\",\"年資層級A\",\"年資層級B\",\"年資層級C\",\"任職前工作平均年數\",\"畢業科系類別\",\"眷屬量\",\"通勤成本\",\"歸屬部門\",\n",
    "        \"PerStatus\",\"sex\",\"工作分類\",\"職等\",\"廠區代碼\",\"管理層級\",\"工作資歷1\",\"工作資歷2\",\"工作資歷3\",\"工作資歷4\",\"工作資歷5\",\"專案時數\",\"專案總數\",\"當前專案角色\",\"特殊專案佔比\",\"工作地點\",\"訓練時數A\",\"訓練時數B\",\"訓練時數C\",\"生產總額\",\"榮譽數\",\"是否升遷\",\"升遷速度\",\"近三月請假數A\",\"近一年請假數A\",\"近三月請假數B\",\"近一年請假數B\",\"出差數A\",\"出差數B\",\"出差集中度\",\"年度績效等級A\",\"年度績效等級B\",\"年度績效等級C\",\"年齡層級\",\"婚姻狀況\",\"年資層級A\",\"年資層級B\",\"年資層級C\",\"任職前工作平均年數\",\"畢業科系類別\",\"眷屬量\",\"通勤成本\",\"歸屬部門\",\n",
    "       \"加班數\",\"出差數A\",\"出差數B\",\"請假數A\",\"請假數B\",\"加班數\",\"出差數A\",\"出差數B\",\"請假數A\",\"請假數B\",\"加班數\",\"出差數A\",\"出差數B\",\"請假數A\",\"請假數B\",\"加班數\",\"出差數A\",\"出差數B\",\"請假數A\",\"請假數B\",\n",
    "        \"加班數\",\"出差數A\",\"出差數B\",\"請假數A\",\"請假數B\",\"加班數\",\"出差數A\",\"出差數B\",\"請假數A\",\"請假數B\",\"加班數\",\"出差數A\",\"出差數B\",\"請假數A\",\"請假數B\",\"加班數\",\"出差數A\",\"出差數B\",\"請假數A\",\"請假數B\",\n",
    "       ]"
   ]
  },
  {
   "cell_type": "code",
   "execution_count": 5,
   "metadata": {},
   "outputs": [
    {
     "name": "stdout",
     "output_type": "stream",
     "text": [
      "87\n",
      "87\n",
      "87\n"
     ]
    }
   ],
   "source": [
    "print(len(name))\n",
    "print(len(dtr[0]))\n",
    "print(len(dtt[0]))"
   ]
  },
  {
   "cell_type": "code",
   "execution_count": 6,
   "metadata": {},
   "outputs": [],
   "source": [
    "with open(\"deal2_train.csv\", 'w', newline='', encoding=\"Big5\") as Csv:\n",
    "    wcsv = csv.writer(Csv)\n",
    "    wcsv.writerow(name)\n",
    "    for i in dtr:\n",
    "        wcsv.writerow(i)\n",
    "with open(\"deal2_test.csv\", 'w', newline='', encoding=\"Big5\") as Csv:\n",
    "    wcsv = csv.writer(Csv)\n",
    "    wcsv.writerow(name)\n",
    "    for i in dtt:\n",
    "        wcsv.writerow(i)"
   ]
  },
  {
   "cell_type": "code",
   "execution_count": 7,
   "metadata": {},
   "outputs": [],
   "source": [
    "random.shuffle(dtr)"
   ]
  },
  {
   "cell_type": "code",
   "execution_count": 12,
   "metadata": {},
   "outputs": [
    {
     "name": "stdout",
     "output_type": "stream",
     "text": [
      "639\n"
     ]
    }
   ],
   "source": [
    "\n",
    "k = 0\n",
    "new_dtr = []\n",
    "for i in dtr:\n",
    "    if i[1] == 1 or k < math.ceil(304 * 1.1):\n",
    "        new_dtr.append(i)\n",
    "        if i[1] == 0:\n",
    "            k += 1\n",
    "print(len(new_dtr))\n",
    "\n",
    "with open(\"deal3_train.csv\", 'w', newline='', encoding=\"Big5\") as Csv:\n",
    "    wcsv = csv.writer(Csv)\n",
    "    wcsv.writerow(name)\n",
    "    for i in new_dtr:\n",
    "        wcsv.writerow(i)"
   ]
  },
  {
   "cell_type": "code",
   "execution_count": null,
   "metadata": {},
   "outputs": [],
   "source": []
  }
 ],
 "metadata": {
  "kernelspec": {
   "display_name": "Python 3",
   "language": "python",
   "name": "python3"
  },
  "language_info": {
   "codemirror_mode": {
    "name": "ipython",
    "version": 3
   },
   "file_extension": ".py",
   "mimetype": "text/x-python",
   "name": "python",
   "nbconvert_exporter": "python",
   "pygments_lexer": "ipython3",
   "version": "3.8.7"
  }
 },
 "nbformat": 4,
 "nbformat_minor": 4
}
