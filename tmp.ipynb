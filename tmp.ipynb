{
 "cells": [
  {
   "cell_type": "code",
   "execution_count": 6,
   "metadata": {},
   "outputs": [],
   "source": [
    "tt_path = \"deal_test.csv\"\n",
    "tr_path = \"deal_train.csv\"\n",
    "import pandas as pd # 引用套件並縮寫為 pd\n",
    "import csv"
   ]
  },
  {
   "cell_type": "code",
   "execution_count": 7,
   "metadata": {},
   "outputs": [],
   "source": [
    "df = pd.read_csv(tt_path, encoding=\"Big5\")\n",
    "df2 = pd.read_csv(tr_path, encoding=\"Big5\")\n",
    "data = {};\n",
    "for i in range(len(df[\"PerStatus\"])):\n",
    "    if(df.iloc[i][\"PerNo\"] not in data):\n",
    "        data[df.iloc[i][\"PerNo\"]] = {df.iloc[i][\"yyyy\"]:df.iloc[i][3:]}\n",
    "    else:\n",
    "        data[df.iloc[i][\"PerNo\"]][df.iloc[i][\"yyyy\"]] = df.iloc[i][3:]\n",
    "\n",
    "for i in range(len(df2[\"PerStatus\"])):\n",
    "    if(df2.iloc[i][\"PerNo\"] not in data):\n",
    "        data[df2.iloc[i][\"PerNo\"]] = {df2.iloc[i][\"yyyy\"]:df2.iloc[i][3:]}\n",
    "    else:\n",
    "        data[df2.iloc[i][\"PerNo\"]][df2.iloc[i][\"yyyy\"]] = df2.iloc[i][3:]"
   ]
  },
  {
   "cell_type": "code",
   "execution_count": 12,
   "metadata": {},
   "outputs": [],
   "source": [
    "for idx, value in data.items():\n",
    "    if(2014.0 not in data[idx]):\n",
    "        data[idx][2014.0] = [-1 for _ in range(43)]\n",
    "    if(2015.0 not in data[idx]):\n",
    "        data[idx][2015.0] = [-1 for _ in range(43)]\n",
    "    if(2016.0 not in data[idx]):\n",
    "        data[idx][2016.0] = [-1 for _ in range(43)]\n",
    "    if(2017.0 not in data[idx]):\n",
    "        data[idx][2017.0] = [-1 for _ in range(43)]"
   ]
  },
  {
   "cell_type": "code",
   "execution_count": 21,
   "metadata": {},
   "outputs": [],
   "source": [
    "dtr = []\n",
    "dtt = []\n",
    "for idx, value in data.items():\n",
    "    now = [idx]\n",
    "    for yy, da in value.items():\n",
    "        if(yy >= 2014 and yy <= 2017):\n",
    "            now.extend(da)\n",
    "    if now[1] == -1:\n",
    "        continue\n",
    "    dtr.append(now)\n",
    "for idx, value in data.items():\n",
    "    now = [idx]\n",
    "    for yy, da in value.items():\n",
    "        if(yy >= 2015 and yy <= 2018):\n",
    "            now.extend(da)\n",
    "    dtt.append(now)\n"
   ]
  },
  {
   "cell_type": "code",
   "execution_count": 22,
   "metadata": {},
   "outputs": [],
   "source": [
    "name = [\"PerNo\",\"PerStatus\",\"sex\",\"工作分類\",\"職等\",\"廠區代碼\",\"管理層級\",\"工作資歷1\",\"工作資歷2\",\"工作資歷3\",\"工作資歷4\",\"工作資歷5\",\"專案時數\",\"專案總數\",\"當前專案角色\",\"特殊專案佔比\",\"工作地點\",\"訓練時數A\",\"訓練時數B\",\"訓練時數C\",\"生產總額\",\"榮譽數\",\"是否升遷\",\"升遷速度\",\"近三月請假數A\",\"近一年請假數A\",\"近三月請假數B\",\"近一年請假數B\",\"出差數A\",\"出差數B\",\"出差集中度\",\"年度績效等級A\",\"年度績效等級B\",\"年度績效等級C\",\"年齡層級\",\"婚姻狀況\",\"年資層級A\",\"年資層級B\",\"年資層級C\",\"任職前工作平均年數\",\"畢業科系類別\",\"眷屬量\",\"通勤成本\",\"歸屬部門\",\n",
    "        \"PerStatus\",\"sex\",\"工作分類\",\"職等\",\"廠區代碼\",\"管理層級\",\"工作資歷1\",\"工作資歷2\",\"工作資歷3\",\"工作資歷4\",\"工作資歷5\",\"專案時數\",\"專案總數\",\"當前專案角色\",\"特殊專案佔比\",\"工作地點\",\"訓練時數A\",\"訓練時數B\",\"訓練時數C\",\"生產總額\",\"榮譽數\",\"是否升遷\",\"升遷速度\",\"近三月請假數A\",\"近一年請假數A\",\"近三月請假數B\",\"近一年請假數B\",\"出差數A\",\"出差數B\",\"出差集中度\",\"年度績效等級A\",\"年度績效等級B\",\"年度績效等級C\",\"年齡層級\",\"婚姻狀況\",\"年資層級A\",\"年資層級B\",\"年資層級C\",\"任職前工作平均年數\",\"畢業科系類別\",\"眷屬量\",\"通勤成本\",\"歸屬部門\",\n",
    "        \"PerStatus\",\"sex\",\"工作分類\",\"職等\",\"廠區代碼\",\"管理層級\",\"工作資歷1\",\"工作資歷2\",\"工作資歷3\",\"工作資歷4\",\"工作資歷5\",\"專案時數\",\"專案總數\",\"當前專案角色\",\"特殊專案佔比\",\"工作地點\",\"訓練時數A\",\"訓練時數B\",\"訓練時數C\",\"生產總額\",\"榮譽數\",\"是否升遷\",\"升遷速度\",\"近三月請假數A\",\"近一年請假數A\",\"近三月請假數B\",\"近一年請假數B\",\"出差數A\",\"出差數B\",\"出差集中度\",\"年度績效等級A\",\"年度績效等級B\",\"年度績效等級C\",\"年齡層級\",\"婚姻狀況\",\"年資層級A\",\"年資層級B\",\"年資層級C\",\"任職前工作平均年數\",\"畢業科系類別\",\"眷屬量\",\"通勤成本\",\"歸屬部門\",\n",
    "        \"PerStatus\",\"sex\",\"工作分類\",\"職等\",\"廠區代碼\",\"管理層級\",\"工作資歷1\",\"工作資歷2\",\"工作資歷3\",\"工作資歷4\",\"工作資歷5\",\"專案時數\",\"專案總數\",\"當前專案角色\",\"特殊專案佔比\",\"工作地點\",\"訓練時數A\",\"訓練時數B\",\"訓練時數C\",\"生產總額\",\"榮譽數\",\"是否升遷\",\"升遷速度\",\"近三月請假數A\",\"近一年請假數A\",\"近三月請假數B\",\"近一年請假數B\",\"出差數A\",\"出差數B\",\"出差集中度\",\"年度績效等級A\",\"年度績效等級B\",\"年度績效等級C\",\"年齡層級\",\"婚姻狀況\",\"年資層級A\",\"年資層級B\",\"年資層級C\",\"任職前工作平均年數\",\"畢業科系類別\",\"眷屬量\",\"通勤成本\",\"歸屬部門\"\n",
    "       ]\n",
    "# name = [\"PerNo\",\"PerStatus\",\"sex\",\"工作分類\",\"職等\",\"廠區代碼\",\"管理層級\",\"工作資歷1\",\"工作資歷2\",\"工作資歷3\",\"工作資歷4\",\"工作資歷5\",\"專案時數\",\"專案總數\",\"當前專案角色\",\"特殊專案佔比\",\"工作地點\",\"訓練時數A\",\"訓練時數B\",\"訓練時數C\",\"生產總額\",\"榮譽數\",\"是否升遷\",\"升遷速度\",\"近三月請假數A\",\"近一年請假數A\",\"近三月請假數B\",\"近一年請假數B\",\"出差數A\",\"出差數B\",\"出差集中度\",\"年度績效等級A\",\"年度績效等級B\",\"年度績效等級C\",\"年齡層級\",\"婚姻狀況\",\"年資層級A\",\"年資層級B\",\"年資層級C\",\"任職前工作平均年數\",\"畢業科系類別\",\"眷屬量\",\"通勤成本\",\"歸屬部門\",\n",
    "#         \"PerStatus\",\"sex\",\"工作分類\",\"職等\",\"廠區代碼\",\"管理層級\",\"工作資歷1\",\"工作資歷2\",\"工作資歷3\",\"工作資歷4\",\"工作資歷5\",\"專案時數\",\"專案總數\",\"當前專案角色\",\"特殊專案佔比\",\"工作地點\",\"訓練時數A\",\"訓練時數B\",\"訓練時數C\",\"生產總額\",\"榮譽數\",\"是否升遷\",\"升遷速度\",\"近三月請假數A\",\"近一年請假數A\",\"近三月請假數B\",\"近一年請假數B\",\"出差數A\",\"出差數B\",\"出差集中度\",\"年度績效等級A\",\"年度績效等級B\",\"年度績效等級C\",\"年齡層級\",\"婚姻狀況\",\"年資層級A\",\"年資層級B\",\"年資層級C\",\"任職前工作平均年數\",\"畢業科系類別\",\"眷屬量\",\"通勤成本\",\"歸屬部門\",\n",
    "#         ]"
   ]
  },
  {
   "cell_type": "code",
   "execution_count": 23,
   "metadata": {},
   "outputs": [
    {
     "name": "stdout",
     "output_type": "stream",
     "text": [
      "173\n",
      "173\n",
      "173\n"
     ]
    }
   ],
   "source": [
    "print(len(name))\n",
    "print(len(dtr[0]))\n",
    "print(len(dtt[0]))"
   ]
  },
  {
   "cell_type": "code",
   "execution_count": 24,
   "metadata": {},
   "outputs": [],
   "source": [
    "with open(\"deal2_train.csv\", 'w', newline='', encoding=\"Big5\") as Csv:\n",
    "    wcsv = csv.writer(Csv)\n",
    "    wcsv.writerow(name)\n",
    "    for i in dtr:\n",
    "        wcsv.writerow(i)\n",
    "with open(\"deal2_test.csv\", 'w', newline='', encoding=\"Big5\") as Csv:\n",
    "    wcsv = csv.writer(Csv)\n",
    "    wcsv.writerow(name)\n",
    "    for i in dtt:\n",
    "        wcsv.writerow(i)"
   ]
  },
  {
   "cell_type": "code",
   "execution_count": null,
   "metadata": {},
   "outputs": [],
   "source": []
  }
 ],
 "metadata": {
  "kernelspec": {
   "display_name": "Python 3",
   "language": "python",
   "name": "python3"
  },
  "language_info": {
   "codemirror_mode": {
    "name": "ipython",
    "version": 3
   },
   "file_extension": ".py",
   "mimetype": "text/x-python",
   "name": "python",
   "nbconvert_exporter": "python",
   "pygments_lexer": "ipython3",
   "version": "3.8.7"
  }
 },
 "nbformat": 4,
 "nbformat_minor": 4
}
